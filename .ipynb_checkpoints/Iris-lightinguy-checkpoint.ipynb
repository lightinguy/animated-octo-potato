{
 "cells": [
  {
   "cell_type": "code",
   "execution_count": 11,
   "metadata": {
    "collapsed": false
   },
   "outputs": [
    {
     "name": "stdout",
     "output_type": "stream",
     "text": [
      "[['5.1', '3.5', '1.4', '0.2', 'setosa'], ['4.9', '3', '1.4', '0.2', 'setosa'], ['4.7', '3.2', '1.3', '0.2', 'setosa'], ['4.6', '3.1', '1.5', '0.2', 'setosa'], ['5', '3.6', '1.4', '0.2', 'setosa'], ['5.4', '3.9', '1.7', '0.4', 'setosa'], ['4.6', '3.4', '1.4', '0.3', 'setosa'], ['5', '3.4', '1.5', '0.2', 'setosa'], ['4.4', '2.9', '1.4', '0.2', 'setosa'], ['4.9', '3.1', '1.5', '0.1', 'setosa'], ['5.4', '3.7', '1.5', '0.2', 'setosa'], ['4.8', '3.4', '1.6', '0.2', 'setosa'], ['4.8', '3', '1.4', '0.1', 'setosa'], ['4.3', '3', '1.1', '0.1', 'setosa'], ['5.8', '4', '1.2', '0.2', 'setosa'], ['5.7', '4.4', '1.5', '0.4', 'setosa'], ['5.4', '3.9', '1.3', '0.4', 'setosa'], ['5.1', '3.5', '1.4', '0.3', 'setosa'], ['5.7', '3.8', '1.7', '0.3', 'setosa'], ['5.1', '3.8', '1.5', '0.3', 'setosa'], ['5.4', '3.4', '1.7', '0.2', 'setosa'], ['5.1', '3.7', '1.5', '0.4', 'setosa'], ['4.6', '3.6', '1', '0.2', 'setosa'], ['5.1', '3.3', '1.7', '0.5', 'setosa'], ['4.8', '3.4', '1.9', '0.2', 'setosa'], ['5', '3', '1.6', '0.2', 'setosa'], ['5', '3.4', '1.6', '0.4', 'setosa'], ['5.2', '3.5', '1.5', '0.2', 'setosa'], ['5.2', '3.4', '1.4', '0.2', 'setosa'], ['4.7', '3.2', '1.6', '0.2', 'setosa'], ['4.8', '3.1', '1.6', '0.2', 'setosa'], ['5.4', '3.4', '1.5', '0.4', 'setosa'], ['5.2', '4.1', '1.5', '0.1', 'setosa'], ['5.5', '4.2', '1.4', '0.2', 'setosa'], ['4.9', '3.1', '1.5', '0.1', 'setosa'], ['5', '3.2', '1.2', '0.2', 'setosa'], ['5.5', '3.5', '1.3', '0.2', 'setosa'], ['4.9', '3.1', '1.5', '0.1', 'setosa'], ['4.4', '3', '1.3', '0.2', 'setosa'], ['5.1', '3.4', '1.5', '0.2', 'setosa'], ['5', '3.5', '1.3', '0.3', 'setosa'], ['4.5', '2.3', '1.3', '0.3', 'setosa'], ['4.4', '3.2', '1.3', '0.2', 'setosa'], ['5', '3.5', '1.6', '0.6', 'setosa'], ['5.1', '3.8', '1.9', '0.4', 'setosa'], ['4.8', '3', '1.4', '0.3', 'setosa'], ['5.1', '3.8', '1.6', '0.2', 'setosa'], ['4.6', '3.2', '1.4', '0.2', 'setosa'], ['5.3', '3.7', '1.5', '0.2', 'setosa'], ['5', '3.3', '1.4', '0.2', 'setosa'], ['7', '3.2', '4.7', '1.4', 'versicolor'], ['6.4', '3.2', '4.5', '1.5', 'versicolor'], ['6.9', '3.1', '4.9', '1.5', 'versicolor'], ['5.5', '2.3', '4', '1.3', 'versicolor'], ['6.5', '2.8', '4.6', '1.5', 'versicolor'], ['5.7', '2.8', '4.5', '1.3', 'versicolor'], ['6.3', '3.3', '4.7', '1.6', 'versicolor'], ['4.9', '2.4', '3.3', '1', 'versicolor'], ['6.6', '2.9', '4.6', '1.3', 'versicolor'], ['5.2', '2.7', '3.9', '1.4', 'versicolor'], ['5', '2', '3.5', '1', 'versicolor'], ['5.9', '3', '4.2', '1.5', 'versicolor'], ['6', '2.2', '4', '1', 'versicolor'], ['6.1', '2.9', '4.7', '1.4', 'versicolor'], ['5.6', '2.9', '3.6', '1.3', 'versicolor'], ['6.7', '3.1', '4.4', '1.4', 'versicolor'], ['5.6', '3', '4.5', '1.5', 'versicolor'], ['5.8', '2.7', '4.1', '1', 'versicolor'], ['6.2', '2.2', '4.5', '1.5', 'versicolor'], ['5.6', '2.5', '3.9', '1.1', 'versicolor'], ['5.9', '3.2', '4.8', '1.8', 'versicolor'], ['6.1', '2.8', '4', '1.3', 'versicolor'], ['6.3', '2.5', '4.9', '1.5', 'versicolor'], ['6.1', '2.8', '4.7', '1.2', 'versicolor'], ['6.4', '2.9', '4.3', '1.3', 'versicolor'], ['6.6', '3', '4.4', '1.4', 'versicolor'], ['6.8', '2.8', '4.8', '1.4', 'versicolor'], ['6.7', '3', '5', '1.7', 'versicolor'], ['6', '2.9', '4.5', '1.5', 'versicolor'], ['5.7', '2.6', '3.5', '1', 'versicolor'], ['5.5', '2.4', '3.8', '1.1', 'versicolor'], ['5.5', '2.4', '3.7', '1', 'versicolor'], ['5.8', '2.7', '3.9', '1.2', 'versicolor'], ['6', '2.7', '5.1', '1.6', 'versicolor'], ['5.4', '3', '4.5', '1.5', 'versicolor'], ['6', '3.4', '4.5', '1.6', 'versicolor'], ['6.7', '3.1', '4.7', '1.5', 'versicolor'], ['6.3', '2.3', '4.4', '1.3', 'versicolor'], ['5.6', '3', '4.1', '1.3', 'versicolor'], ['5.5', '2.5', '4', '1.3', 'versicolor'], ['5.5', '2.6', '4.4', '1.2', 'versicolor'], ['6.1', '3', '4.6', '1.4', 'versicolor'], ['5.8', '2.6', '4', '1.2', 'versicolor'], ['5', '2.3', '3.3', '1', 'versicolor'], ['5.6', '2.7', '4.2', '1.3', 'versicolor'], ['5.7', '3', '4.2', '1.2', 'versicolor'], ['5.7', '2.9', '4.2', '1.3', 'versicolor'], ['6.2', '2.9', '4.3', '1.3', 'versicolor'], ['5.1', '2.5', '3', '1.1', 'versicolor'], ['5.7', '2.8', '4.1', '1.3', 'versicolor'], ['6.3', '3.3', '6', '2.5', 'virginica'], ['5.8', '2.7', '5.1', '1.9', 'virginica'], ['7.1', '3', '5.9', '2.1', 'virginica'], ['6.3', '2.9', '5.6', '1.8', 'virginica'], ['6.5', '3', '5.8', '2.2', 'virginica'], ['7.6', '3', '6.6', '2.1', 'virginica'], ['4.9', '2.5', '4.5', '1.7', 'virginica'], ['7.3', '2.9', '6.3', '1.8', 'virginica'], ['6.7', '2.5', '5.8', '1.8', 'virginica'], ['7.2', '3.6', '6.1', '2.5', 'virginica'], ['6.5', '3.2', '5.1', '2', 'virginica'], ['6.4', '2.7', '5.3', '1.9', 'virginica'], ['6.8', '3', '5.5', '2.1', 'virginica'], ['5.7', '2.5', '5', '2', 'virginica'], ['5.8', '2.8', '5.1', '2.4', 'virginica'], ['6.4', '3.2', '5.3', '2.3', 'virginica'], ['6.5', '3', '5.5', '1.8', 'virginica'], ['7.7', '3.8', '6.7', '2.2', 'virginica'], ['7.7', '2.6', '6.9', '2.3', 'virginica'], ['6', '2.2', '5', '1.5', 'virginica'], ['6.9', '3.2', '5.7', '2.3', 'virginica'], ['5.6', '2.8', '4.9', '2', 'virginica'], ['7.7', '2.8', '6.7', '2', 'virginica'], ['6.3', '2.7', '4.9', '1.8', 'virginica'], ['6.7', '3.3', '5.7', '2.1', 'virginica'], ['7.2', '3.2', '6', '1.8', 'virginica'], ['6.2', '2.8', '4.8', '1.8', 'virginica'], ['6.1', '3', '4.9', '1.8', 'virginica'], ['6.4', '2.8', '5.6', '2.1', 'virginica'], ['7.2', '3', '5.8', '1.6', 'virginica'], ['7.4', '2.8', '6.1', '1.9', 'virginica'], ['7.9', '3.8', '6.4', '2', 'virginica'], ['6.4', '2.8', '5.6', '2.2', 'virginica'], ['6.3', '2.8', '5.1', '1.5', 'virginica'], ['6.1', '2.6', '5.6', '1.4', 'virginica'], ['7.7', '3', '6.1', '2.3', 'virginica'], ['6.3', '3.4', '5.6', '2.4', 'virginica'], ['6.4', '3.1', '5.5', '1.8', 'virginica'], ['6', '3', '4.8', '1.8', 'virginica'], ['6.9', '3.1', '5.4', '2.1', 'virginica'], ['6.7', '3.1', '5.6', '2.4', 'virginica'], ['6.9', '3.1', '5.1', '2.3', 'virginica'], ['5.8', '2.7', '5.1', '1.9', 'virginica'], ['6.8', '3.2', '5.9', '2.3', 'virginica'], ['6.7', '3.3', '5.7', '2.5', 'virginica'], ['6.7', '3', '5.2', '2.3', 'virginica'], ['6.3', '2.5', '5', '1.9', 'virginica'], ['6.5', '3', '5.2', '2', 'virginica'], ['6.2', '3.4', '5.4', '2.3', 'virginica'], ['5.9', '3', '5.1', '1.8', 'virginica']]\n"
     ]
    }
   ],
   "source": [
    "# 1 and #2 part of homework\n",
    "\n",
    "# open iris DB and read it in.  Then step through each row and append to dataset.\n",
    "# Use bracket slicing to remove the header\n",
    "\n",
    "import csv\n",
    "dataset = []\n",
    "with open('iris.csv', 'rU') as f:\n",
    "    reader = csv.reader(f)\n",
    "    for row in reader:\n",
    "        dataset.append(row)\n",
    "    dataset = dataset[1:]\n",
    "    \n",
    "    print dataset"
   ]
  },
  {
   "cell_type": "code",
   "execution_count": 13,
   "metadata": {
    "collapsed": false
   },
   "outputs": [
    {
     "name": "stdout",
     "output_type": "stream",
     "text": [
      "150\n"
     ]
    }
   ],
   "source": [
    "# Use len() to determine the length of the dataset\n",
    "\n",
    "length_of_dataset = len(dataset)\n",
    "print length_of_dataset"
   ]
  },
  {
   "cell_type": "code",
   "execution_count": 15,
   "metadata": {
    "collapsed": false
   },
   "outputs": [
    {
     "name": "stdout",
     "output_type": "stream",
     "text": [
      "setosa\n"
     ]
    }
   ],
   "source": [
    "# Use bracket notation to id the species in row 4\n",
    "\n",
    "print dataset[3][4]"
   ]
  },
  {
   "cell_type": "code",
   "execution_count": 24,
   "metadata": {
    "collapsed": false
   },
   "outputs": [
    {
     "name": "stdout",
     "output_type": "stream",
     "text": [
      "The average petal length is  5.84333333333\n"
     ]
    }
   ],
   "source": [
    "#  Two solutions on this one.  The one that is commented uses a for loop.  Below it is\n",
    "# a list comprehension (black majic) trick.  \n",
    "\n",
    "#petal_length =[]\n",
    "#for item in dataset:\n",
    "#    petal_length.append(float(item[0]))\n",
    "    \n",
    "petal_length = [float(item[0]) for item in dataset]    \n",
    "\n",
    "print \"The average petal length is \", sum(petal_length)/len(dataset)"
   ]
  },
  {
   "cell_type": "code",
   "execution_count": 27,
   "metadata": {
    "collapsed": false
   },
   "outputs": [
    {
     "name": "stdout",
     "output_type": "stream",
     "text": [
      "The average setosa petal length is  5.006\n"
     ]
    }
   ],
   "source": [
    "#   Step through the dataset to find the rows with 'setosa' and create a list of their lengths\n",
    "# use sum and len() to determine the average petal length of the setosa\n",
    "\n",
    "setosa_petal_length =[]\n",
    "for item in dataset:\n",
    "    if item[4] == 'setosa':\n",
    "        setosa_petal_length.append(float(item[0]))\n",
    "    \n",
    "print \"The average setosa petal length is \", sum(setosa_petal_length)/len(setosa_petal_length)"
   ]
  },
  {
   "cell_type": "code",
   "execution_count": 31,
   "metadata": {
    "collapsed": false
   },
   "outputs": [
    {
     "name": "stdout",
     "output_type": "stream",
     "text": [
      "5.006\n"
     ]
    }
   ],
   "source": [
    "#  this is a function that takes in a species name and determines the average petal length for that species.\n",
    "\n",
    "def average_petal_length(species):\n",
    "    average_petal_length = []\n",
    "    for item in dataset:\n",
    "        if item[4] == species:\n",
    "            average_petal_length.append(float(item[0]))\n",
    "    return  sum(average_petal_length)/len(average_petal_length) \n",
    "\n",
    "setosa_average = average_petal_length('setosa')\n",
    "print setosa_average\n"
   ]
  }
 ],
 "metadata": {
  "anaconda-cloud": {},
  "kernelspec": {
   "display_name": "Python [conda root]",
   "language": "python",
   "name": "conda-root-py"
  },
  "language_info": {
   "codemirror_mode": {
    "name": "ipython",
    "version": 2
   },
   "file_extension": ".py",
   "mimetype": "text/x-python",
   "name": "python",
   "nbconvert_exporter": "python",
   "pygments_lexer": "ipython2",
   "version": "2.7.12"
  }
 },
 "nbformat": 4,
 "nbformat_minor": 1
}
